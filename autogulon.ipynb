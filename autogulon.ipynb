{
 "cells": [
  {
   "cell_type": "code",
   "execution_count": null,
   "id": "cd18c950-37fe-4a61-ac18-7ad703df3809",
   "metadata": {},
   "outputs": [],
   "source": [
    "import pandas as pd\n",
    "import numpy as np\n",
    "from autogluon.tabular import TabularDataset, TabularPredictor\n",
    "from sklearn.model_selection import train_test_split\n",
    "from sklearn.metrics import confusion_matrix, ConfusionMatrixDisplay, accuracy_score, recall_score, precision_score, f1_score, roc_auc_score, roc_curve, auc\n",
    "from sklearn.decomposition import PCA\n",
    "from sklearn.datasets import make_classification\n",
    "from sklearn.preprocessing import StandardScaler\n",
    "from fastai.tabular.all import *\n",
    "import shap\n",
    "import matplotlib.pyplot as plt\n",
    "from sklearn.linear_model import LinearRegression\n",
    "import seaborn as sns\n",
    "import warnings\n",
    "warnings.filterwarnings(\"ignore\")\n",
    "import torch\n",
    "import torch.nn as nn\n",
    "import torch.optim as optim\n",
    "import torch.nn.functional as F\n",
    "from torch.utils.data import DataLoader, TensorDataset\n",
    "import time"
   ]
  },
  {
   "cell_type": "code",
   "execution_count": null,
   "id": "d3c789a2-9bce-4937-a0df-d4cb230b19ff",
   "metadata": {},
   "outputs": [],
   "source": [
    "data_pro = pd.read_csv('pro_nona_scale_label.csv')\n",
    "data_pro = data_pro.drop(['Unnamed: 0'], axis=1)\n",
    "data_ptm = pd.read_csv('ptm_nona_scale_label.csv')\n",
    "data_ptm = data_ptm.drop(['Unnamed: 0'], axis=1)\n",
    "data_meta = pd.read_csv('meta_nona_scale_label.csv')\n",
    "data_meta = data_meta.drop(['Unnamed: 0'], axis=1)\n",
    "data_sam = pd.read_csv('all_nona_scale_label.csv')\n",
    "data = data_sam.drop(['Unnamed: 0'], axis=1)"
   ]
  },
  {
   "cell_type": "code",
   "execution_count": null,
   "id": "9fc6e7cb-29f7-4d46-916c-ac41abb7c355",
   "metadata": {},
   "outputs": [],
   "source": [
    "train_data_pro, test_data_pro = train_test_split(data_pro, test_size=0.2, stratify=data_pro['label'], random_state=20)\n",
    "train_data_ptm, test_data_ptm = train_test_split(data_ptm, test_size=0.2, stratify=data_ptm['label'], random_state=20)\n",
    "train_data_meta, test_data_meta = train_test_split(data_meta, test_size=0.2, stratify=data_meta['label'], random_state=20)\n",
    "train_data, test_data = train_test_split(data, test_size=0.2, stratify=data['label'], random_state=20)"
   ]
  },
  {
   "cell_type": "code",
   "execution_count": null,
   "id": "8367136c-66cc-41c2-9957-20d2ae43560b",
   "metadata": {},
   "outputs": [],
   "source": [
    "predictor_pro = TabularPredictor(\"label\").fit(train_data_pro, num_bag_folds=10) #AutogluonModels\\ag-20241213_060715\n",
    "predictor_ptm = TabularPredictor(\"label\").fit(train_data_ptm, num_bag_folds=10) #AutogluonModels\\ag-20241213_061011\n",
    "predictor_meta = TabularPredictor(\"label\").fit(train_data_meta, num_bag_folds=10) #AutogluonModels\\ag-20241213_061600\n",
    "predictor = TabularPredictor(\"label\").fit(train_data) #AutogluonModels\\ag-20241103_082447"
   ]
  }
 ],
 "metadata": {
  "kernelspec": {
   "display_name": "pytorch",
   "language": "python",
   "name": "pytorch"
  },
  "language_info": {
   "codemirror_mode": {
    "name": "ipython",
    "version": 3
   },
   "file_extension": ".py",
   "mimetype": "text/x-python",
   "name": "python",
   "nbconvert_exporter": "python",
   "pygments_lexer": "ipython3",
   "version": "3.12.5"
  }
 },
 "nbformat": 4,
 "nbformat_minor": 5
}
